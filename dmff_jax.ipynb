{
 "cells": [
  {
   "cell_type": "markdown",
   "id": "054ca539",
   "metadata": {},
   "source": [
    "### 1.0 引入依赖，准备文件 "
   ]
  },
  {
   "cell_type": "markdown",
   "id": "bda2975b",
   "metadata": {},
   "source": [
    "我们先配置运行环境，并引入需要用到的势函数"
   ]
  },
  {
   "cell_type": "code",
   "execution_count": 1,
   "id": "6e013d29",
   "metadata": {},
   "outputs": [],
   "source": [
    "#! pip install matplotlib pymbar optax\n",
    "#! conda install mdtraj -y\n",
    "#! if [ ! -e DMFF ];then git clone https://gitee.com/deepmodeling/DMFF.git;fi\n",
    "#! git config --global --add safe.directory `pwd`/DMFF\n",
    "#! cd DMFF && git checkout devel\n",
    "#! export XLA_PYTHON_CLIENT_PREALLOCATE=FALSE\n",
    "#! cd DMFF && python setup.py install"
   ]
  },
  {
   "cell_type": "markdown",
   "id": "dd4e48f9",
   "metadata": {},
   "source": [
    "除去 DMFF，我们还需要使用的包有 JAX、OpenMM；\n",
    "\n",
    "- OpenMM：管理核心的力场文件和参数数据（力场参数读取的前端）\n",
    "- JAX：可微分框架（力场计算的后端引擎）\n",
    "\n",
    "同时，在后面的案例中我们还会用到一些其他库以及轨迹分析软件如mdtraj等，这里一并引入"
   ]
  },
  {
   "cell_type": "code",
   "execution_count": 48,
   "id": "dcbf9592",
   "metadata": {},
   "outputs": [],
   "source": [
    "import sys\n",
    "import numpy as np\n",
    "import jax\n",
    "import jax_md\n",
    "import jax.numpy as jnp\n",
    "from jax import value_and_grad, jit, vmap\n",
    "import openmm as mm\n",
    "import openmm.app as app\n",
    "import openmm.unit as unit\n",
    "import dmff\n",
    "from dmff import Hamiltonian, NeighborList\n",
    "from dmff.api import Hamiltonian\n",
    "from dmff.common import nblist\n",
    "from dmff.optimize import MultiTransform, genOptimizer\n",
    "from dmff.mbar import MBAREstimator, SampleState, TargetState, Sample, OpenMMSampleState, buildTrajEnergyFunction\n",
    "import pickle\n",
    "from pprint import pprint\n",
    "import optax\n",
    "import mdtraj as md\n",
    "from itertools import combinations\n",
    "import matplotlib.pyplot as plt\n",
    "#from jax import config\n",
    "#config.update(\"jax_enable_x64\", True)"
   ]
  },
  {
   "cell_type": "markdown",
   "id": "9e8e8af9",
   "metadata": {},
   "source": [
    "在这里，我们先通过脚本将GROMACS的拓扑文件转换成openmm的xml文件,DMFF只支持PeriodicTorsionForce类型的二面角，不支持RBTorsionForce。故需要把RBTorsionForce转换成PeriodicTorsionForce类型的二面角，但能量相差一个[常数项](http://docs.openmm.org/latest/userguide/theory/02_standard_forces.html)，对力没有影响"
   ]
  },
  {
   "cell_type": "code",
   "execution_count": 49,
   "id": "bcc907a5",
   "metadata": {},
   "outputs": [
    {
     "name": "stdout",
     "output_type": "stream",
     "text": [
      "Found RBTorsion... Conveted to PeriodicTorsion? Default is No->A constant is substrated for each torsion. Compensate for it? Default is No->itp file has been converted into xml file\n"
     ]
    }
   ],
   "source": [
    "! (echo Yes;echo No) | python gmx_top_2_openmm.py gromacs/hexane.top 1.xml"
   ]
  },
  {
   "cell_type": "markdown",
   "id": "1af6398e",
   "metadata": {},
   "source": [
    "使用openmm计算能量和受力,simu.py"
   ]
  },
  {
   "cell_type": "code",
   "execution_count": 50,
   "id": "5bdeacfc",
   "metadata": {},
   "outputs": [],
   "source": [
    "! python simu.py 1> energy_force_OpenMM.txt 2>/dev/null"
   ]
  },
  {
   "cell_type": "markdown",
   "id": "cfd0ae0b",
   "metadata": {},
   "source": [
    "接下来使用DMFF的引擎计算能量和受力。\n",
    "### 1.1 读入现有力场参数和拓扑 | OpenMM前端 "
   ]
  },
  {
   "cell_type": "markdown",
   "id": "77b0ceb8",
   "metadata": {},
   "source": [
    "DMFF中有和 OpenMM 的 `ForceField` 类似的，读取力场参数的功能类 `Hamiltonian`，可以定义更广义的体系势能函数，同时又兼容对现有力场参数的读取：\n",
    "\n",
    "- 我们可以使用OpenMM主要读入PDB和拓扑：\n",
    "  - 拓扑（`1.xml`）\n",
    "  - 坐标PDB（`1.pdb`）\n",
    "- 使用DMFF的Hamiltonian读入力场参数，以便建立可微分势能函数\n",
    "  - 力场文件 （`1.xml`）\n",
    "\n",
    "DMFF势函数，除Hamiltonian名称外，和 OpenMM 的用法是相同的，OpenMM 力场的 XML 文件也可直接复用。"
   ]
  },
  {
   "cell_type": "code",
   "execution_count": 51,
   "id": "27b707f3",
   "metadata": {},
   "outputs": [],
   "source": [
    "app.Topology.loadBondDefinitions(\"1.xml\")\n",
    "pdb = app.PDBFile(\"1.pdb\")\n",
    "ff = Hamiltonian(\"1.xml\")\n",
    "potentials = ff.createPotential(pdb.topology)"
   ]
  },
  {
   "cell_type": "markdown",
   "id": "d4e54f3a",
   "metadata": {},
   "source": [
    "在DMFF中，势函数参数和计算将会由JAX管理，例如上述DMFF势函数包括了在DMFF中重新实现的 HarmonicBondForce、HarmonicAngleForce、PeriodicTorsionForce、NonbondedForce，"
   ]
  },
  {
   "cell_type": "code",
   "execution_count": 52,
   "id": "fcb5f3bc",
   "metadata": {},
   "outputs": [
    {
     "name": "stdout",
     "output_type": "stream",
     "text": [
      "HarmonicBondForce <function HarmonicBondJaxGenerator.createForce.<locals>.potential_fn at 0x1540cc989d30>\n",
      "HarmonicAngleForce <function HarmonicAngleJaxGenerator.createForce.<locals>.potential_fn at 0x1540cc8cb3a0>\n",
      "PeriodicTorsionForce <function PeriodicTorsionJaxGenerator.createForce.<locals>.potential_fn at 0x1540cd25b9d0>\n",
      "NonbondedForce <function NonbondedJaxGenerator.createForce.<locals>.potential_fn at 0x1540cd252b80>\n",
      "LennardJonesForce <function LennardJonesGenerator.createForce.<locals>.potential_fn at 0x1540cd2525e0>\n"
     ]
    }
   ],
   "source": [
    "for k in potentials.dmff_potentials.keys():\n",
    "    pot = potentials.dmff_potentials[k]\n",
    "    print(k, pot)\n",
    "\n",
    "params = ff.getParameters()"
   ]
  },
  {
   "cell_type": "markdown",
   "id": "c4d7dec4",
   "metadata": {},
   "source": [
    "### 1.2 计算 | JAX可微分后端"
   ]
  },
  {
   "cell_type": "markdown",
   "id": "d049286a",
   "metadata": {},
   "source": [
    "上述定义的势函数的计算中，我们需要这样几个参数：\n",
    "\n",
    "- **坐标** positions: pdb中坐标的精度只有0.0001 nm，故我们使用MDAnalysis读取原始结构\n",
    "\n",
    "- **体系模拟的盒子定义** box: 我们的PDB文件中没有定义 box，所以需要加上 box 大小的定义；（当然，使用None也会得到结果，因为我们的体系并不涉及周期边界）\n",
    "\n",
    "- **原子近邻表定义** pairs: 势函数计算能量的接口同时也需要输入Neighborlist以便计算nonbondforce，故也可以使用NeighborList类来得到pairs\n",
    "\n",
    "然后就可以传递给 potentials.dmff_potentials 中保存的，由`generator`解析XML中的力场参数生成的`get_energy`函数来计算相应的能量，例如可以计算`NonbondedForce`能量："
   ]
  },
  {
   "cell_type": "code",
   "execution_count": 53,
   "id": "31304838",
   "metadata": {},
   "outputs": [],
   "source": [
    "from ase.io import read\n",
    "u = read(\"gromacs/hexane.gro\")\n",
    "positions = jnp.array(u.positions/10)"
   ]
  },
  {
   "cell_type": "code",
   "execution_count": 54,
   "id": "753cc1c0",
   "metadata": {},
   "outputs": [],
   "source": [
    "box = jnp.array([\n",
    "    [100.0,  0.0,  0.0],\n",
    "    [ 0.0, 100.0,  0.0],\n",
    "    [ 0.0,  0.0, 100.0]\n",
    "])\n",
    "#box=None # 使用这个也可以,但好像没有办法生成pairs"
   ]
  },
  {
   "cell_type": "markdown",
   "id": "c00e0e20",
   "metadata": {},
   "source": [
    "由于LJ参数的混合规则，OPLS-AA力场必须要自定义[LennardJonesForce](http://docs.openmm.org/latest/userguide/application/05_creating_ffs.html)，但DMFF支持并不好，因此使用NonbondedJaxGenerator生成共价矩阵"
   ]
  },
  {
   "cell_type": "code",
   "execution_count": 55,
   "id": "f2501c6f",
   "metadata": {},
   "outputs": [],
   "source": [
    "Generators_name = [i.name for i in ff.getGenerators()]"
   ]
  },
  {
   "cell_type": "code",
   "execution_count": 56,
   "id": "9335aa23",
   "metadata": {},
   "outputs": [],
   "source": [
    "NonbondedForce_index = Generators_name.index('NonbondedForce')"
   ]
  },
  {
   "cell_type": "code",
   "execution_count": 57,
   "id": "3dba0cfa",
   "metadata": {},
   "outputs": [],
   "source": [
    "nbList = NeighborList(box, r_cutoff=4, covalent_map=ff.getGenerators()[NonbondedForce_index].covalent_map)"
   ]
  },
  {
   "cell_type": "code",
   "execution_count": 58,
   "id": "b3f869fc",
   "metadata": {},
   "outputs": [
    {
     "data": {
      "text/plain": [
       "Array([[ 0,  1,  1],\n",
       "       [ 0,  2,  1],\n",
       "       [ 1,  2,  2],\n",
       "       [ 0,  3,  1],\n",
       "       [ 1,  3,  2],\n",
       "       [ 2,  3,  2],\n",
       "       [ 0,  4,  1],\n",
       "       [ 1,  4,  2],\n",
       "       [ 2,  4,  2],\n",
       "       [ 3,  4,  2],\n",
       "       [ 0,  5,  2],\n",
       "       [ 1,  5,  3],\n",
       "       [ 2,  5,  3],\n",
       "       [ 3,  5,  3],\n",
       "       [ 4,  5,  1],\n",
       "       [ 0,  6,  2],\n",
       "       [ 1,  6,  3],\n",
       "       [ 2,  6,  3],\n",
       "       [ 3,  6,  3],\n",
       "       [ 4,  6,  1],\n",
       "       [ 5,  6,  2],\n",
       "       [ 0,  7,  2],\n",
       "       [ 1,  7,  3],\n",
       "       [ 2,  7,  3],\n",
       "       [ 3,  7,  3],\n",
       "       [ 4,  7,  1],\n",
       "       [ 5,  7,  2],\n",
       "       [ 6,  7,  2],\n",
       "       [ 0,  8,  3],\n",
       "       [ 1,  8,  4],\n",
       "       [ 2,  8,  4],\n",
       "       [ 3,  8,  4],\n",
       "       [ 4,  8,  2],\n",
       "       [ 5,  8,  3],\n",
       "       [ 6,  8,  3],\n",
       "       [ 7,  8,  1],\n",
       "       [ 0,  9,  3],\n",
       "       [ 1,  9,  4],\n",
       "       [ 2,  9,  4],\n",
       "       [ 3,  9,  4],\n",
       "       [ 4,  9,  2],\n",
       "       [ 5,  9,  3],\n",
       "       [ 6,  9,  3],\n",
       "       [ 7,  9,  1],\n",
       "       [ 8,  9,  2],\n",
       "       [ 0, 10,  3],\n",
       "       [ 1, 10,  4],\n",
       "       [ 2, 10,  4],\n",
       "       [ 3, 10,  4],\n",
       "       [ 4, 10,  2],\n",
       "       [ 5, 10,  3],\n",
       "       [ 6, 10,  3],\n",
       "       [ 7, 10,  1],\n",
       "       [ 8, 10,  2],\n",
       "       [ 9, 10,  2],\n",
       "       [ 0, 11,  4],\n",
       "       [ 1, 11,  5],\n",
       "       [ 2, 11,  5],\n",
       "       [ 3, 11,  5],\n",
       "       [ 4, 11,  3],\n",
       "       [ 5, 11,  4],\n",
       "       [ 6, 11,  4],\n",
       "       [ 7, 11,  2],\n",
       "       [ 8, 11,  3],\n",
       "       [ 9, 11,  3],\n",
       "       [10, 11,  1],\n",
       "       [ 0, 12,  4],\n",
       "       [ 1, 12,  5],\n",
       "       [ 2, 12,  5],\n",
       "       [ 3, 12,  5],\n",
       "       [ 4, 12,  3],\n",
       "       [ 5, 12,  4],\n",
       "       [ 6, 12,  4],\n",
       "       [ 7, 12,  2],\n",
       "       [ 8, 12,  3],\n",
       "       [ 9, 12,  3],\n",
       "       [10, 12,  1],\n",
       "       [11, 12,  2],\n",
       "       [ 0, 13,  4],\n",
       "       [ 1, 13,  5],\n",
       "       [ 2, 13,  5],\n",
       "       [ 3, 13,  5],\n",
       "       [ 4, 13,  3],\n",
       "       [ 5, 13,  4],\n",
       "       [ 6, 13,  4],\n",
       "       [ 7, 13,  2],\n",
       "       [ 8, 13,  3],\n",
       "       [ 9, 13,  3],\n",
       "       [10, 13,  1],\n",
       "       [11, 13,  2],\n",
       "       [12, 13,  2],\n",
       "       [ 0, 14,  5],\n",
       "       [ 1, 14,  6],\n",
       "       [ 2, 14,  6],\n",
       "       [ 3, 14,  6],\n",
       "       [ 4, 14,  4],\n",
       "       [ 5, 14,  5],\n",
       "       [ 6, 14,  5],\n",
       "       [ 7, 14,  3],\n",
       "       [ 8, 14,  4],\n",
       "       [ 9, 14,  4],\n",
       "       [10, 14,  2],\n",
       "       [11, 14,  3],\n",
       "       [12, 14,  3],\n",
       "       [13, 14,  1],\n",
       "       [ 0, 15,  5],\n",
       "       [ 1, 15,  6],\n",
       "       [ 2, 15,  6],\n",
       "       [ 3, 15,  6],\n",
       "       [ 4, 15,  4],\n",
       "       [ 5, 15,  5],\n",
       "       [ 6, 15,  5],\n",
       "       [ 7, 15,  3],\n",
       "       [ 8, 15,  4],\n",
       "       [ 9, 15,  4],\n",
       "       [10, 15,  2],\n",
       "       [11, 15,  3],\n",
       "       [12, 15,  3],\n",
       "       [13, 15,  1],\n",
       "       [14, 15,  2],\n",
       "       [ 0, 16,  5],\n",
       "       [ 1, 16,  6],\n",
       "       [ 2, 16,  6],\n",
       "       [ 3, 16,  6],\n",
       "       [ 4, 16,  4],\n",
       "       [ 5, 16,  5],\n",
       "       [ 6, 16,  5],\n",
       "       [ 7, 16,  3],\n",
       "       [ 8, 16,  4],\n",
       "       [ 9, 16,  4],\n",
       "       [10, 16,  2],\n",
       "       [11, 16,  3],\n",
       "       [12, 16,  3],\n",
       "       [13, 16,  1],\n",
       "       [14, 16,  2],\n",
       "       [15, 16,  2],\n",
       "       [ 0, 17,  6],\n",
       "       [ 1, 17,  0],\n",
       "       [ 2, 17,  0],\n",
       "       [ 3, 17,  0],\n",
       "       [ 4, 17,  5],\n",
       "       [ 5, 17,  6],\n",
       "       [ 6, 17,  6],\n",
       "       [ 7, 17,  4],\n",
       "       [ 8, 17,  5],\n",
       "       [ 9, 17,  5],\n",
       "       [10, 17,  3],\n",
       "       [11, 17,  4],\n",
       "       [12, 17,  4],\n",
       "       [13, 17,  2],\n",
       "       [14, 17,  3],\n",
       "       [15, 17,  3],\n",
       "       [16, 17,  1],\n",
       "       [ 0, 18,  6],\n",
       "       [ 1, 18,  0],\n",
       "       [ 2, 18,  0],\n",
       "       [ 3, 18,  0],\n",
       "       [ 4, 18,  5],\n",
       "       [ 5, 18,  6],\n",
       "       [ 6, 18,  6],\n",
       "       [ 7, 18,  4],\n",
       "       [ 8, 18,  5],\n",
       "       [ 9, 18,  5],\n",
       "       [10, 18,  3],\n",
       "       [11, 18,  4],\n",
       "       [12, 18,  4],\n",
       "       [13, 18,  2],\n",
       "       [14, 18,  3],\n",
       "       [15, 18,  3],\n",
       "       [16, 18,  1],\n",
       "       [17, 18,  2],\n",
       "       [ 0, 19,  6],\n",
       "       [ 1, 19,  0],\n",
       "       [ 2, 19,  0],\n",
       "       [ 3, 19,  0],\n",
       "       [ 4, 19,  5],\n",
       "       [ 5, 19,  6],\n",
       "       [ 6, 19,  6],\n",
       "       [ 7, 19,  4],\n",
       "       [ 8, 19,  5],\n",
       "       [ 9, 19,  5],\n",
       "       [10, 19,  3],\n",
       "       [11, 19,  4],\n",
       "       [12, 19,  4],\n",
       "       [13, 19,  2],\n",
       "       [14, 19,  3],\n",
       "       [15, 19,  3],\n",
       "       [16, 19,  1],\n",
       "       [17, 19,  2],\n",
       "       [18, 19,  2]], dtype=int64)"
      ]
     },
     "execution_count": 58,
     "metadata": {},
     "output_type": "execute_result"
    }
   ],
   "source": [
    "nbList.allocate(positions)"
   ]
  },
  {
   "cell_type": "code",
   "execution_count": 59,
   "id": "68c8f761",
   "metadata": {},
   "outputs": [],
   "source": [
    "pairs = nbList.pairs"
   ]
  },
  {
   "cell_type": "markdown",
   "id": "ff4641a5",
   "metadata": {},
   "source": [
    "计算二面角键作用项"
   ]
  },
  {
   "cell_type": "code",
   "execution_count": 60,
   "id": "6cf8e50a",
   "metadata": {},
   "outputs": [],
   "source": [
    "bdfunc = potentials.dmff_potentials['PeriodicTorsionForce']"
   ]
  },
  {
   "cell_type": "markdown",
   "id": "d6eba00f",
   "metadata": {},
   "source": [
    "可以用 inspect 看看，`bdfunc`是一个【函数】,而inspect.signature()方法会告诉我们这个函数的输入参数有哪些"
   ]
  },
  {
   "cell_type": "code",
   "execution_count": 61,
   "id": "ce54597c",
   "metadata": {},
   "outputs": [
    {
     "name": "stdout",
     "output_type": "stream",
     "text": [
      "(positions, box, pairs, params)\n"
     ]
    }
   ],
   "source": [
    "import inspect\n",
    "print(inspect.signature(bdfunc))"
   ]
  },
  {
   "cell_type": "code",
   "execution_count": 62,
   "id": "dce4bd85",
   "metadata": {},
   "outputs": [
    {
     "name": "stdout",
     "output_type": "stream",
     "text": [
      "0.8210229096280344 kJ/mol\n"
     ]
    }
   ],
   "source": [
    "bd_ene = bdfunc(positions, box, pairs, params)\n",
    "print(bd_ene,\"kJ/mol\")"
   ]
  },
  {
   "cell_type": "markdown",
   "id": "44eabb5b",
   "metadata": {},
   "source": [
    "或是计算体系总能量，对于我们上面定义的体系，其能量为：\n",
    "$$\n",
    "E_{\\rm{total}}^{\\rm{OPLS-AA}}=E_{\\rm{bond}}+E_{\\rm{angle}}+E_{\\rm{torsion}}+E_{\\rm{nonbond}}\n",
    "$$\n"
   ]
  },
  {
   "cell_type": "markdown",
   "id": "df5e0e5e",
   "metadata": {},
   "source": [
    "使用之前的 potential，调用`getPotentialFunc()`方法，即可获得计算总能量的函数。"
   ]
  },
  {
   "cell_type": "code",
   "execution_count": 63,
   "id": "dceee707",
   "metadata": {},
   "outputs": [
    {
     "name": "stdout",
     "output_type": "stream",
     "text": [
      "17.289234750009776\n"
     ]
    }
   ],
   "source": [
    "efunc = potentials.getPotentialFunc()\n",
    "params = ff.getParameters()\n",
    "tot_ene = efunc(positions, box, pairs, params)\n",
    "print(tot_ene)"
   ]
  },
  {
   "cell_type": "markdown",
   "id": "ef068a23",
   "metadata": {},
   "source": [
    "JAX作为计算后端的最大优势，则在于我们可以使用`jax.grad`函数来获得函数的导函数，其语法为 `jax.grad(func, argnums)`，含义为对函数的第argnums参数求（偏）导。  \n",
    "我们拿到的总能量计算函数`efunc`的接口是 [坐标、box、成键对、力场参数] （DMFF的经典力场实现是这组参数，**但不同Force可能有不同定义**）"
   ]
  },
  {
   "cell_type": "markdown",
   "id": "e1c7cd8e",
   "metadata": {},
   "source": [
    "我们“对函数求（偏）导函数”的操作，求总能量对坐标的偏导数，即可用于计算分子中的原子受力\n",
    "$$\n",
    "\\frac{\\partial{E_{\\rm{total}}}}{\\partial{\\mathbf{Z_i}}}=-\\mathbf{F_i}, \\ i=x,y,z\n",
    "$$\n",
    "（注意力是能量导数反方向，所以需要取负）"
   ]
  },
  {
   "cell_type": "code",
   "execution_count": 64,
   "id": "fcc5e15b",
   "metadata": {},
   "outputs": [
    {
     "name": "stdout",
     "output_type": "stream",
     "text": [
      "[[ 192.02006169  186.8954069  -103.55195091]\n",
      " [  21.24080163  170.58272908  116.84833476]\n",
      " [ -22.45906394 -320.16288859  230.06491056]\n",
      " [-277.79248673  -19.36031727 -243.35426773]\n",
      " [ -45.62185858 -269.33300582  760.54600181]\n",
      " [  98.72941548 -278.77548234 -233.78323524]\n",
      " [ 110.90745394  485.57315343 -366.92752014]\n",
      " [-223.96582048  112.27654889 -630.02104522]\n",
      " [  -3.79874426  275.91153574  194.72605559]\n",
      " [ -24.56777799 -343.60768002  229.42772411]\n",
      " [ 223.96582048  112.27654889  630.02104522]\n",
      " [  24.56777799 -343.60768002 -229.42772411]\n",
      " [   3.79874426  275.91153574 -194.72605559]\n",
      " [  45.62185858 -269.33300582 -760.54600181]\n",
      " [-110.90745394  485.57315343  366.92752014]\n",
      " [ -98.72941548 -278.77548234  233.78323524]\n",
      " [-192.02006169  186.8954069   103.55195091]\n",
      " [  22.45906394 -320.16288859 -230.06491056]\n",
      " [ 277.79248673  -19.36031727  243.35426773]\n",
      " [ -21.24080163  170.58272908 -116.84833476]]\n"
     ]
    }
   ],
   "source": [
    "pos_grad_func = jax.grad(efunc, argnums=0)\n",
    "force = -pos_grad_func(positions, box, pairs, params)\n",
    "print(force)"
   ]
  },
  {
   "cell_type": "code",
   "execution_count": 65,
   "id": "e4979499",
   "metadata": {},
   "outputs": [
    {
     "name": "stdout",
     "output_type": "stream",
     "text": [
      "17.289234161376953 kJ/mol\n",
      "[Vec3(x=192.0240447674878, y=186.89748458354734, z=-103.55235186591744), Vec3(x=21.240091770887375, y=170.58164946362376, z=116.8477446436882), Vec3(x=-22.460035735741258, y=-320.1639369484037, z=230.06565440446138), Vec3(x=-277.7940939841792, y=-19.360379272140563, z=-243.35452631814405), Vec3(x=-45.62105325283483, y=-269.3325101584196, z=760.5487667734269), Vec3(x=98.72918905317783, y=-278.77580372430384, z=-233.78369309008121), Vec3(x=110.90731357038021, y=485.5732279457152, z=-366.92821395397186), Vec3(x=-223.96715174312703, y=112.2765069634188, z=-630.0229020942934), Vec3(x=-3.7986108623445034, y=275.9116894155741, z=194.72628375142813), Vec3(x=-24.56780745089054, y=-343.6079359576106, z=229.42799699306488), Vec3(x=223.96714539150707, y=112.27651363541372, z=630.0228754286654), Vec3(x=24.56781630218029, y=-343.6079392656684, z=-229.42799040675163), Vec3(x=3.7986129485070705, y=275.9117060378194, z=-194.72626414895058), Vec3(x=45.62104672123678, y=-269.33251851424575, z=-760.5487659554929), Vec3(x=-110.9073067754507, y=485.5732315517962, z=366.92820966243744), Vec3(x=-98.72918935120106, y=-278.7758018169552, z=233.78369046747684), Vec3(x=-192.02404510369524, y=186.8974808396306, z=103.55235515814275), Vec3(x=22.460036689415574, y=-320.1639368291944, z=-230.06565486639738), Vec3(x=277.79409208567813, y=-19.360375826247036, z=243.35452639334835), Vec3(x=-21.240088909864426, y=170.58164885267615, z=-116.84774535894394)] kJ/(nm mol)\n"
     ]
    }
   ],
   "source": [
    "! cat energy_force_OpenMM.txt"
   ]
  },
  {
   "cell_type": "markdown",
   "id": "33b9649c",
   "metadata": {},
   "source": [
    "可以看到，OpenMM的计算值与DMFF的计算值非常接近。"
   ]
  },
  {
   "cell_type": "markdown",
   "id": "0fce9d36",
   "metadata": {},
   "source": [
    "接下来计算Hessian矩阵，即能量对原子坐标的二阶导数\n",
    "$$\n",
    "\\mathbf{H}_{ij}=\\frac{\\partial ^2f}{\\partial x_i\\partial x_j}\n",
    "$$"
   ]
  },
  {
   "cell_type": "code",
   "execution_count": 74,
   "id": "88d63ff1",
   "metadata": {},
   "outputs": [],
   "source": [
    "pos_hessian_func = jax.hessian(efunc, argnums=0)\n",
    "hessian = pos_hessian_func(positions, box, pairs, params)"
   ]
  },
  {
   "cell_type": "markdown",
   "id": "96781414",
   "metadata": {},
   "source": [
    "Hessian应该是一个二阶对称矩阵，维数应该是（Natom\\*3,Natom\\*3）"
   ]
  },
  {
   "cell_type": "code",
   "execution_count": 75,
   "id": "b06a0193",
   "metadata": {},
   "outputs": [
    {
     "name": "stdout",
     "output_type": "stream",
     "text": [
      "20 (20, 3, 20, 3)\n"
     ]
    }
   ],
   "source": [
    "Natom = u.get_global_number_of_atoms()\n",
    "print(Natom,hessian.shape)"
   ]
  },
  {
   "cell_type": "markdown",
   "id": "69971a9c-63ff-4a77-8fe6-08b3f463f0e7",
   "metadata": {},
   "source": [
    "可以看到Hessian是一个维数是（Natom*3,Natom*3）的二阶对称矩阵"
   ]
  },
  {
   "cell_type": "code",
   "execution_count": 76,
   "id": "8fd8ed8e",
   "metadata": {},
   "outputs": [],
   "source": [
    "hessian = hessian.reshape(3 * Natom, 3 * Natom)"
   ]
  },
  {
   "cell_type": "code",
   "execution_count": 77,
   "id": "364faff5",
   "metadata": {},
   "outputs": [],
   "source": [
    "hessian = ((hessian + hessian.T) / 2).reshape((Natom, 3, Natom, 3))"
   ]
  },
  {
   "cell_type": "code",
   "execution_count": 78,
   "id": "4dc53ae0-9de2-4603-8b00-9a5c296db534",
   "metadata": {},
   "outputs": [],
   "source": [
    "hessian = hessian/((18.897161646320724)**2)*0.0003808798033989866 #Hartree/(Bohr2 amu)"
   ]
  },
  {
   "cell_type": "code",
   "execution_count": 80,
   "id": "733af823-6c8d-4361-95ef-8580f7437112",
   "metadata": {},
   "outputs": [],
   "source": [
    "mass_weighted_hessian = jax.numpy.einsum(\"AtBs, A, B -> AtBs\", hessian, 1.0/jax.numpy.sqrt(u.get_masses()), 1.0/jax.numpy.sqrt(u.get_masses()), precision=jax.lax.Precision.HIGHEST).reshape(3 * Natom, 3 * Natom)"
   ]
  },
  {
   "cell_type": "code",
   "execution_count": 81,
   "id": "aa038efb",
   "metadata": {},
   "outputs": [
    {
     "data": {
      "text/plain": [
       "Array([[ 4.29490078e-02,  6.47655674e-05,  1.40883763e-03, ...,\n",
       "         3.17845317e-06,  6.50071508e-07, -2.23913520e-07],\n",
       "       [ 6.47655674e-05,  4.45976292e-02,  1.16823402e-04, ...,\n",
       "         6.50071508e-07, -1.49273424e-06, -3.05799951e-08],\n",
       "       [ 1.40883763e-03,  1.16823402e-04,  4.48620235e-02, ...,\n",
       "        -2.23913520e-07, -3.05799951e-08, -1.57098176e-06],\n",
       "       ...,\n",
       "       [ 3.17845317e-06,  6.50071508e-07, -2.23913520e-07, ...,\n",
       "         4.93596970e-02,  2.87934023e-02, -2.08813700e-02],\n",
       "       [ 6.50071508e-07, -1.49273424e-06, -3.05799951e-08, ...,\n",
       "         2.87934023e-02,  2.15420654e-01, -1.19334758e-01],\n",
       "       [-2.23913520e-07, -3.05799951e-08, -1.57098176e-06, ...,\n",
       "        -2.08813700e-02, -1.19334758e-01,  1.20034099e-01]],      dtype=float64)"
      ]
     },
     "execution_count": 81,
     "metadata": {},
     "output_type": "execute_result"
    }
   ],
   "source": [
    "mass_weighted_hessian"
   ]
  },
  {
   "cell_type": "code",
   "execution_count": 82,
   "id": "4b310eaf",
   "metadata": {},
   "outputs": [],
   "source": [
    "lambda_,q=jax.numpy.linalg.eigh(mass_weighted_hessian)"
   ]
  },
  {
   "cell_type": "code",
   "execution_count": 83,
   "id": "701f0743-777d-4b91-a7a2-145c90cffdc4",
   "metadata": {},
   "outputs": [],
   "source": [
    "# https://docs.scipy.org/doc/scipy/reference/constants.html\n",
    "from scipy.constants import physical_constants\n",
    "\n",
    "E_h = physical_constants[\"Hartree energy\"][0]\n",
    "a_0 = physical_constants[\"Bohr radius\"][0]\n",
    "N_A = physical_constants[\"Avogadro constant\"][0]\n",
    "c_0 = physical_constants[\"speed of light in vacuum\"][0]\n",
    "e_c = physical_constants[\"elementary charge\"][0]\n",
    "e_0 = physical_constants[\"electric constant\"][0]\n",
    "mu_0 = physical_constants[\"mag. constant\"][0]"
   ]
  },
  {
   "cell_type": "code",
   "execution_count": 84,
   "id": "8359b3cb-1ac5-42e7-844d-20b3e20be74b",
   "metadata": {},
   "outputs": [],
   "source": [
    "freq_cm_1 = jax.numpy.sqrt(jax.numpy.abs(lambda_ * E_h * 1000 * N_A / a_0**2)) / (2 * jax.numpy.pi * c_0 * 100) * ((lambda_ > 0) * 2 - 1)"
   ]
  },
  {
   "cell_type": "code",
   "execution_count": 85,
   "id": "7b7ec902-870e-473f-b7ab-d376d8eeea06",
   "metadata": {},
   "outputs": [
    {
     "data": {
      "text/plain": [
       "Array([-4.93725742e-05, -1.27650188e-05,  1.40851871e-05,  3.71150887e+01,\n",
       "        4.51291788e+01,  1.15322205e+02,  1.72313445e+02,  1.82010718e+02,\n",
       "        2.02511348e+02,  2.08379763e+02,  2.85852888e+02,  3.69207483e+02,\n",
       "        3.69691919e+02,  3.74236897e+02,  4.62411499e+02,  7.72442097e+02,\n",
       "        7.90592088e+02,  8.28419265e+02,  8.40941064e+02,  8.83446888e+02,\n",
       "        8.92792015e+02,  8.95173976e+02,  9.15457114e+02,  9.31477345e+02,\n",
       "        9.79711210e+02,  9.99956226e+02,  1.00134958e+03,  1.02928236e+03,\n",
       "        1.14407572e+03,  1.15684746e+03,  1.18604260e+03,  1.18857974e+03,\n",
       "        1.26344988e+03,  1.31778156e+03,  1.36292231e+03,  1.36677230e+03,\n",
       "        1.36820635e+03,  1.37669467e+03,  1.37678862e+03,  1.38457868e+03,\n",
       "        1.38916585e+03,  1.41023009e+03,  1.41698419e+03,  1.43886928e+03,\n",
       "        1.48115779e+03,  1.53779507e+03,  2.87206263e+03,  2.87207992e+03,\n",
       "        2.90835493e+03,  2.91136190e+03,  2.91643999e+03,  2.92174275e+03,\n",
       "        2.97254622e+03,  2.97302782e+03,  2.97505540e+03,  2.97759886e+03,\n",
       "        2.97846418e+03,  2.97858147e+03,  2.97945392e+03,  2.98039625e+03],      dtype=float64)"
      ]
     },
     "execution_count": 85,
     "metadata": {},
     "output_type": "execute_result"
    }
   ],
   "source": [
    "freq_cm_1"
   ]
  },
  {
   "cell_type": "markdown",
   "id": "e287f6ac-dff8-43d2-914f-9604f2670408",
   "metadata": {},
   "source": [
    "以上振动包含了平动和转动，应该把它们消除掉。\n",
    "去除平动、转动对频率的贡献，其过程大致是预先将平动、转动的模式求取，随后将力常数张量投影到平动、转动模式的补空间 ($3 n_\\mathrm{Atom} - 6$ 维度空间)，得到新的力常数张量。\n",
    "\n",
    "其中的大部分内容应当在 Wilson et al.(Wilson, E. B.; Decius, J. C.; Cross, P. C. *Molecular Vibrations*; Dover Pub. Inc., 1980) 的 Chapter 2 可以找到。 "
   ]
  },
  {
   "cell_type": "code",
   "execution_count": 86,
   "id": "c9eb3faf-e844-4fa3-9b35-1d9a3de30046",
   "metadata": {},
   "outputs": [],
   "source": [
    "mol_coord = u.positions * 1.8897161646320724 # Bohr"
   ]
  },
  {
   "cell_type": "code",
   "execution_count": 87,
   "id": "84a4a496-e457-415a-bf41-a332d5ee2a25",
   "metadata": {},
   "outputs": [],
   "source": [
    "center_coord = (mol_coord * u.get_masses()[:, None]).sum(axis=0) / u.get_masses().sum()"
   ]
  },
  {
   "cell_type": "code",
   "execution_count": 88,
   "id": "6905fd89-08c5-4bf7-9444-9bab7a561941",
   "metadata": {},
   "outputs": [
    {
     "data": {
      "text/plain": [
       "array([0.00000000e+00, 3.16426260e-02, 1.54594865e-17])"
      ]
     },
     "execution_count": 88,
     "metadata": {},
     "output_type": "execute_result"
    }
   ],
   "source": [
    "center_coord"
   ]
  },
  {
   "cell_type": "markdown",
   "id": "3122815e-55ae-4fa1-a3b2-9de78f9f777f",
   "metadata": {},
   "source": [
    "`centered_coord` $A^\\mathrm{C}_t$ 是将质心平移至原点后的原子坐标，维度 $(n_\\mathrm{Atom}, 3)$，单位 Bohr。\n",
    " \n",
    "$$\n",
    "A^\\mathrm{C}_t = A_t - C_t\n",
    "$$"
   ]
  },
  {
   "cell_type": "code",
   "execution_count": 89,
   "id": "dbcd1af7-20d1-42fa-9e40-02d2b103d74e",
   "metadata": {},
   "outputs": [],
   "source": [
    "centered_coord = mol_coord - center_coord"
   ]
  },
  {
   "cell_type": "markdown",
   "id": "3698309c-f7d7-4b15-8a89-a86e4823e149",
   "metadata": {},
   "source": [
    "### 转动惯量本征向量\n",
    "\n",
    "`rot_tmp` $I_{ts}$ 是转动惯量相关的矩阵，在初始化时维度为 $(n_\\mathrm{Atom}, 3, 3)$，最终结果通过求和得到 $(3, 3)$ 的矩阵，单位 Bohr<sup>2</sup> amu。\n",
    " \n",
    "$$\n",
    "\\begin{split}\n",
    "I_{ts} =\n",
    "\\begin{cases}\n",
    "     \\sum_{A} w_A \\left( - (A_t^\\mathrm{C})^2 + \\sum_r (A_r^\\mathrm{C})^2 \\right) \\,, & t = s \\\\\n",
    "     \\sum_{A} w_A \\left( - A_t^\\mathrm{C} A_s^\\mathrm{C} \\right) \\,, & t \\neq s\n",
    " \\end{cases}\n",
    " \\end{split}\n",
    "$$"
   ]
  },
  {
   "cell_type": "code",
   "execution_count": 91,
   "id": "7dc510aa-0de2-47ba-b3d6-36225ef20c42",
   "metadata": {},
   "outputs": [],
   "source": [
    "rot_tmp = np.zeros((Natom, 3, 3))\n",
    "rot_tmp[:, 0, 0] = centered_coord[:, 1]**2 + centered_coord[:, 2]**2\n",
    "rot_tmp[:, 1, 1] = centered_coord[:, 2]**2 + centered_coord[:, 0]**2\n",
    "rot_tmp[:, 2, 2] = centered_coord[:, 0]**2 + centered_coord[:, 1]**2\n",
    "rot_tmp[:, 0, 1] = rot_tmp[:, 1, 0] = - centered_coord[:, 0] * centered_coord[:, 1]\n",
    "rot_tmp[:, 1, 2] = rot_tmp[:, 2, 1] = - centered_coord[:, 1] * centered_coord[:, 2]\n",
    "rot_tmp[:, 2, 0] = rot_tmp[:, 0, 2] = - centered_coord[:, 2] * centered_coord[:, 0]\n",
    "rot_tmp = (rot_tmp * u.get_masses()[:, None, None]).sum(axis=0)"
   ]
  },
  {
   "cell_type": "markdown",
   "id": "3c945901-cbf4-4ad4-bb7a-3965ff0558d5",
   "metadata": {},
   "source": [
    "`rot_eig` $R_{ts}$ 是转动惯量相关的对称矩阵 $I_{ts}$ 所求得的本征向量，维度 $(3, 3)$，无量纲"
   ]
  },
  {
   "cell_type": "code",
   "execution_count": 92,
   "id": "e0a8d387-489b-4bac-8768-e02b39eabaf7",
   "metadata": {},
   "outputs": [],
   "source": [
    "_, rot_eig = np.linalg.eigh(rot_tmp)"
   ]
  },
  {
   "cell_type": "code",
   "execution_count": 93,
   "id": "6d3de567-4cd0-4f66-9db4-9dc834c8a6a7",
   "metadata": {},
   "outputs": [
    {
     "data": {
      "text/plain": [
       "array([[-0.99339526, -0.11474257,  0.        ],\n",
       "       [ 0.        ,  0.        ,  1.        ],\n",
       "       [-0.11474257,  0.99339526,  0.        ]])"
      ]
     },
     "execution_count": 93,
     "metadata": {},
     "output_type": "execute_result"
    }
   ],
   "source": [
    "rot_eig"
   ]
  },
  {
   "cell_type": "markdown",
   "id": "5ae318c1-d680-4101-a3c8-a7ad1eab8abd",
   "metadata": {},
   "source": [
    "### 平动、转动投影矩阵\n",
    "\n",
    "`proj_scr` $P_{A_t q}$ 是平动、转动的 $(3 n_\\mathrm{Atom}, 6)$ 维度投影矩阵，其目的是将 $\\Theta^{A_t B_s}$ 中不应对分子振动产生贡献的部分投影消去，剩余的 $3 n_\\mathrm{Atom} - 6$ 子空间用于求取实际的分子振动频率。但在初始化 `proj_scr` $P_{A_t q}$ 时，先使用 $(n_\\mathrm{Atom}, 3, 6)$ 维度的张量。\n",
    " \n",
    "在计算投影矩阵前，我们先生成 `rot_coord` $\\mathscr{R}_{Asrw}$ 转动投影相关量，维度 $(n_\\mathrm{Atom}, 3, 3, 3)$：\n",
    " \n",
    "$$\n",
    "\\mathscr{R}_{Asrw} = \\sum_{t} A^\\mathrm{C}_t R_{ts} R_{rw}\n",
    " $$"
   ]
  },
  {
   "cell_type": "code",
   "execution_count": 94,
   "id": "0dd8361f-b0f9-4a84-a684-d543bf50aae6",
   "metadata": {},
   "outputs": [],
   "source": [
    "rot_coord = np.einsum(\"At, ts, rw -> Asrw\", centered_coord, rot_eig, rot_eig)"
   ]
  },
  {
   "cell_type": "markdown",
   "id": "35b577f4-eff0-4d8d-9091-78384ddd658a",
   "metadata": {},
   "source": [
    "随后我们给出 `proj_scr` 的计算表达式。`proj_scr` 的前三列表示平动投影，当 $q \\in (x, y, z) = (0, 1, 2)$ 时，\n",
    "\n",
    "$$\n",
    "P_{A_t q} = \\sqrt{w_A} \\delta_{tq}\n",
    "$$\n",
    "\n",
    "而当 $q \\in (x, y, z) = (3, 4, 5)$ 时，\n",
    "\n",
    "$$\n",
    "\\begin{split}\n",
    "P_{A_t q} = \\sqrt{w_A} \\times\n",
    "\\begin{cases}\n",
    "    \\mathscr{R}_{Aytz} - \\mathscr{R}_{Azty} \\,, & q = x \\\\\n",
    "    \\mathscr{R}_{Aztx} - \\mathscr{R}_{Axtz} \\,, & q = y \\\\\n",
    "    \\mathscr{R}_{Axty} - \\mathscr{R}_{Aytx} \\,, & q = z\n",
    "\\end{cases}\n",
    "\\end{split}\n",
    "$$\n",
    "\n",
    "最终，我们会将 $P_{A_t q}$ 中关于 $A_t$ 的维度进行归一化，因此最终获得的 $P_{A_t q}$ 是无量纲的。"
   ]
  },
  {
   "cell_type": "code",
   "execution_count": 95,
   "id": "f1610fc8-6bf7-44f0-b764-c22bd8ca2de6",
   "metadata": {},
   "outputs": [],
   "source": [
    "proj_scr = np.zeros((Natom, 3, 6))\n",
    "proj_scr[:, (0, 1, 2), (0, 1, 2)] = 1\n",
    "proj_scr[:, :, 3] = (rot_coord[:, 1, :, 2] - rot_coord[:, 2, :, 1])\n",
    "proj_scr[:, :, 4] = (rot_coord[:, 2, :, 0] - rot_coord[:, 0, :, 2])\n",
    "proj_scr[:, :, 5] = (rot_coord[:, 0, :, 1] - rot_coord[:, 1, :, 0])\n",
    "proj_scr *= np.sqrt(u.get_masses())[:, None, None]\n",
    "proj_scr.shape = (-1, 6)\n",
    "proj_scr /= np.linalg.norm(proj_scr, axis=0)"
   ]
  },
  {
   "cell_type": "code",
   "execution_count": 96,
   "id": "f1728f86-496a-423c-8d6c-f5c810f3fe8d",
   "metadata": {},
   "outputs": [],
   "source": [
    "e_tr, _ = jax.numpy.linalg.eigh(proj_scr.T @ mass_weighted_hessian @ proj_scr)"
   ]
  },
  {
   "cell_type": "markdown",
   "id": "dfef213a-cfbc-4382-9c97-8093b2c19a1f",
   "metadata": {},
   "source": [
    "### 平动、转动投影矩阵的补空间\n",
    "\n",
    "既然我们已经得到了平动、转动的投影，那么根据矩阵的原理，相应地我们也能获得其补空间的投影。我们令 `proj_inv` $Q_{A_t q}$ 为 $P_{A_t q}$ 的补空间投影。获得补空间的大致方式是预先定义一个仅有一个分量为 $1$ 的 $(3 n_\\mathrm{Atom}, )$ 维度向量，随后通过 Schmit 正交的方式给出已有投影空间的补空间向量。组合这些 Schmit 正交的向量便获得了 $Q_{A_t q}$。\n",
    " \n",
    "$Q_{A_t q}$ 的维度本应当是 $(3 n_\\mathrm{Atom}, 3 n_\\mathrm{Atom} - 6)$ 维。但为了程序编写方便，我们先规定 `proj_inv` 是 $(3 n_\\mathrm{Atom}, 3 n_\\mathrm{Atom})$ 维度，并且其中的前 6 列填入 $P_{A_t q}$；在进行 Schmit 正交化后，再将前 6 列剔除。\n"
   ]
  },
  {
   "cell_type": "code",
   "execution_count": 98,
   "id": "121be246-e4f9-4f30-8cd4-e366f01cdd39",
   "metadata": {},
   "outputs": [],
   "source": [
    "proj_inv = np.zeros((Natom * 3, Natom * 3))\n",
    "proj_inv[:, :6] = proj_scr\n",
    "cur = 6\n",
    "for i in range(0, Natom * 3):\n",
    "    vec_i = np.einsum(\"Ai, i -> A\", proj_inv[:, :cur], proj_inv[i, :cur])\n",
    "    vec_i[i] -= 1\n",
    "    if np.linalg.norm(vec_i) > 1e-8:\n",
    "        proj_inv[:, cur] = vec_i / np.linalg.norm(vec_i)\n",
    "        cur += 1\n",
    "    if cur >= Natom * 3:\n",
    "        break\n",
    "proj_inv = proj_inv[:, 6:]"
   ]
  },
  {
   "cell_type": "markdown",
   "id": "01377f27-ce56-4611-bb39-1af28e93e07e",
   "metadata": {},
   "source": [
    "我们最后获得的 $Q_{A_t q}$ 是列正交切归一的矩阵，且形式大致是下三角矩阵。但需要留意，对于当前的分子，最后一列只有 6 个非零值，与倒数第二列非零值的数量相差 2 个。"
   ]
  },
  {
   "cell_type": "markdown",
   "id": "1ff2c0dd-8732-4833-9fa1-410eb770a260",
   "metadata": {},
   "source": [
    "### 去除平动、转动部分的频率\n",
    "\n",
    "我们将对矩阵 $\\mathbf{Q}^\\dagger \\mathbf{\\Theta} \\mathbf{Q}$ 进行对角化；且获得的第 $q$ 个简正坐标的频率相关量 `e` $K_q = k_q / m_q$ 与原始简正坐标 `q` $\\mathbf{q}^\\mathrm{orig}$ 表示如下：\n",
    "\n",
    "$$\n",
    "\\mathbf{Q}^\\dagger \\mathbf{\\Theta} \\mathbf{Q} \\mathbf{q}^\\mathrm{orig} = \\mathbf{q}^\\mathrm{orig} \\mathrm{diag} (\\boldsymbol{K})\n",
    "$$"
   ]
  },
  {
   "cell_type": "code",
   "execution_count": 99,
   "id": "2cba3679-78a2-440d-b43e-47327a7fae02",
   "metadata": {},
   "outputs": [],
   "source": [
    "e, q = jax.numpy.linalg.eigh(proj_inv.T @ mass_weighted_hessian @ proj_inv)"
   ]
  },
  {
   "cell_type": "markdown",
   "id": "7432d435-2037-4de4-a184-9ee54a50dcaa",
   "metadata": {},
   "source": [
    "由此，我们就可以立即获得去除平动、转动部分的，以 cm<sup>-1</sup> 为单位的，总数为 $3 n_\\mathrm{Atom} - 6$ 的分子频率 `freq_cm_1`："
   ]
  },
  {
   "cell_type": "code",
   "execution_count": 100,
   "id": "2c3b037f-d79a-4be6-b497-fc1a17b13874",
   "metadata": {},
   "outputs": [],
   "source": [
    "freq_cm_1 = jax.numpy.sqrt(jax.numpy.abs(e * E_h * 1000 * N_A / a_0**2)) / (2 * jax.numpy.pi * c_0 * 100) * ((e > 0) * 2 - 1)"
   ]
  },
  {
   "cell_type": "code",
   "execution_count": 101,
   "id": "9516fde4-2f3c-4e0b-be53-852d257d0a8a",
   "metadata": {},
   "outputs": [
    {
     "name": "stdout",
     "output_type": "stream",
     "text": [
      "Calculated frequency here: [ 115.26141888  172.31164131  197.48668198  208.37973688  285.82104373\n",
      "  364.47333529  369.68812613  374.18950883  462.41100417  772.44209539\n",
      "  790.35792308  828.41926503  840.93285202  883.42747819  892.76709168\n",
      "  894.66998166  915.45277599  931.47598754  979.71090592  999.15205758\n",
      " 1001.25012215 1029.28044861 1144.00509182 1156.84690554 1186.04223861\n",
      " 1188.57911203 1263.44934924 1317.77581553 1362.9175741  1366.77152868\n",
      " 1368.18500373 1376.69463617 1376.78848099 1384.57867519 1389.16549423\n",
      " 1410.22999337 1416.95435112 1438.86899258 1481.15477556 1537.7831204\n",
      " 2872.06263166 2872.07990061 2908.35492679 2911.36188154 2916.43975764\n",
      " 2921.74274811 2972.54621947 2973.02738523 2975.05539574 2977.59878026\n",
      " 2978.46417493 2978.5814556  2979.4539195  2980.39548782]\n"
     ]
    }
   ],
   "source": [
    "print(\"Calculated frequency here:\",freq_cm_1)"
   ]
  },
  {
   "cell_type": "code",
   "execution_count": 102,
   "id": "928cf593-52e2-440f-97f5-2d4b61c38dd5",
   "metadata": {},
   "outputs": [
    {
     "name": "stdout",
     "output_type": "stream",
     "text": [
      "/home/nanxu/openmm-exe/hexane_simulation/gromacs_to_openmm/hexane/gmxtop/original-jax\n"
     ]
    }
   ],
   "source": [
    "!pwd"
   ]
  },
  {
   "cell_type": "code",
   "execution_count": null,
   "id": "95ff9218-b3f1-41aa-8c46-f35578125174",
   "metadata": {},
   "outputs": [],
   "source": []
  }
 ],
 "metadata": {
  "kernelspec": {
   "display_name": "Python 3 (ipykernel)",
   "language": "python",
   "name": "python3"
  },
  "language_info": {
   "codemirror_mode": {
    "name": "ipython",
    "version": 3
   },
   "file_extension": ".py",
   "mimetype": "text/x-python",
   "name": "python",
   "nbconvert_exporter": "python",
   "pygments_lexer": "ipython3",
   "version": "3.9.18"
  }
 },
 "nbformat": 4,
 "nbformat_minor": 5
}
